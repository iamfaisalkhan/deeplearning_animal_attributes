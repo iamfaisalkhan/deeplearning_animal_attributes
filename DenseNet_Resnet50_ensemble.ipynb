{
 "cells": [
  {
   "cell_type": "code",
   "execution_count": 2,
   "metadata": {},
   "outputs": [],
   "source": [
    "from keras.preprocessing.image import ImageDataGenerator\n",
    "from keras.models import Sequential\n",
    "from keras.layers import GlobalAveragePooling2D, Activation, Dropout, Flatten, Dense\n",
    "from keras.applications import DenseNet121, DenseNet169, DenseNet201, ResNet50\n",
    "from keras import optimizers\n",
    "from keras.callbacks import EarlyStopping, ModelCheckpoint\n",
    "from keras.models import Model\n",
    "\n",
    "from sklearn.model_selection import train_test_split\n",
    "from sklearn.utils import shuffle\n",
    "\n",
    "import pandas as pd\n",
    "from tqdm import tqdm\n",
    "import gc\n",
    "import cv2"
   ]
  },
  {
   "cell_type": "code",
   "execution_count": 3,
   "metadata": {},
   "outputs": [],
   "source": [
    "import numpy as np\n",
    "import tensorflow as tf\n",
    "import random as rn\n",
    "\n",
    "# The below is necessary in Python 3.2.3 onwards to\n",
    "# have reproducible behavior for certain hash-based operations.\n",
    "# See these references for further details:\n",
    "# https://docs.python.org/3.4/using/cmdline.html#envvar-PYTHONHASHSEED\n",
    "# https://github.com/keras-team/keras/issues/2280#issuecomment-306959926\n",
    "\n",
    "import os\n",
    "os.environ['PYTHONHASHSEED'] = '0'\n",
    "# os.environ['CUDA_VISIBLE_DEVICES'] = '1'\n",
    "\n",
    "# The below is necessary for starting Numpy generated random numbers\n",
    "# in a well-defined initial state.\n",
    "\n",
    "np.random.seed(42)\n",
    "\n",
    "# The below is necessary for starting core Python generated random numbers\n",
    "# in a well-defined state.\n",
    "\n",
    "rn.seed(12345)\n",
    "\n",
    "# Force TensorFlow to use single thread.\n",
    "# Multiple threads are a potential source of\n",
    "# non-reproducible results.\n",
    "# For further details, see: https://stackoverflow.com/questions/42022950/which-seeds-have-to-be-set-where-to-realize-100-reproducibility-of-training-res\n",
    "\n",
    "session_conf = tf.ConfigProto(intra_op_parallelism_threads=1, inter_op_parallelism_threads=1)\n",
    "\n",
    "from keras import backend as K\n",
    "\n",
    "# The below tf.set_random_seed() will make random number generation\n",
    "# in the TensorFlow backend have a well-defined initial state.\n",
    "# For further details, see: https://www.tensorflow.org/api_docs/python/tf/set_random_seed\n",
    "\n",
    "tf.set_random_seed(1234)\n",
    "\n",
    "sess = tf.Session(graph=tf.get_default_graph(), config=session_conf)\n",
    "K.set_session(sess)\n"
   ]
  },
  {
   "cell_type": "code",
   "execution_count": 4,
   "metadata": {},
   "outputs": [],
   "source": [
    "img_width, img_height = (224, 224)\n",
    "\n",
    "train_data_dir = './data/train_img/'\n",
    "test_data_dir = './data/test_img/'\n",
    "epochs = 10\n",
    "batch_size = 128\n",
    "\n",
    "if K.image_data_format() == 'channels_first':\n",
    "    input_shape = (3, img_width, img_height)\n",
    "else:\n",
    "    input_shape = (img_width, img_height, 3)\n"
   ]
  },
  {
   "cell_type": "code",
   "execution_count": 6,
   "metadata": {},
   "outputs": [],
   "source": [
    "def get_renset50_model():\n",
    "    resnet_model = ResNet50(include_top=False, input_shape=input_shape)\n",
    "    # add a global spatial average pooling layer\n",
    "    x = resnet_model.output\n",
    "    x = GlobalAveragePooling2D()(x)\n",
    "    predictions = Dense(85, activation='sigmoid')(x)\n",
    "    model = Model(inputs=resnet_model.input, outputs=predictions)\n",
    "    \n",
    "    return model\n",
    "\n",
    "def get_dense_201_model():\n",
    "    densenet_201 = DenseNet201(include_top=False, input_shape=input_shape, weights='imagenet')\n",
    "    # add a global spatial average pooling layer\n",
    "    x = densenet_201.output\n",
    "    x = GlobalAveragePooling2D()(x)\n",
    "    predictions = Dense(85, activation='sigmoid')(x)\n",
    "    model = Model(inputs=densenet_201.input, outputs=predictions)\n",
    "    \n",
    "    return model\n",
    "\n",
    "def get_dense_169_model():\n",
    "    densenet_169 = DenseNet169(include_top=False, input_shape=input_shape, weights='imagenet')\n",
    "    \n",
    "    x = densenet_169.output\n",
    "    x = GlobalAveragePooling2D()(x)\n",
    "    predictions = Dense(85, activation='sigmoid')(x)\n",
    "    model = Model(inputs=densenet_169.input, outputs=predictions)\n",
    "    \n",
    "    return model\n",
    "\n",
    "def get_dense_121_model():\n",
    "    densenet_121 = DenseNet121(include_top=False, input_shape=input_shape, weights='imagenet')\n",
    "    # add a global spatial average pooling layer\n",
    "    x = densenet_121.output\n",
    "    x = GlobalAveragePooling2D()(x)\n",
    "    predictions = Dense(85, activation='sigmoid')(x)\n",
    "    model = Model(inputs=densenet_121.input, outputs=predictions)\n",
    "    \n",
    "    return model"
   ]
  },
  {
   "cell_type": "code",
   "execution_count": 7,
   "metadata": {},
   "outputs": [],
   "source": [
    "train = pd.read_csv('./data/train.csv', index_col=0)\n",
    "test = pd.read_csv('./data/test.csv')\n",
    "attributes = pd.read_csv('./data/attributes.txt', delimiter='\\t', header=None, index_col=0)\n",
    "classes = pd.read_csv('./data/classes.txt', delimiter='\\t', header=None, index_col=0)"
   ]
  },
  {
   "cell_type": "code",
   "execution_count": 8,
   "metadata": {},
   "outputs": [],
   "source": [
    "def get_imgs(src, df, labels = False):\n",
    "    if labels == False:\n",
    "        imgs = []    \n",
    "        files = df['Image_name'].values\n",
    "        for file in tqdm(files):\n",
    "            im = cv2.imread(os.path.join(src, file))\n",
    "            im = cv2.resize(im, (img_width, img_height))\n",
    "            imgs.append(im)\n",
    "        return np.array(imgs)\n",
    "    else:\n",
    "        imgs = []\n",
    "        labels = []\n",
    "        files = os.listdir(src)\n",
    "        for file in tqdm(files):\n",
    "            im = cv2.imread(os.path.join(src, file))\n",
    "            im = cv2.resize(im, (img_width, img_height))\n",
    "            imgs.append(im)\n",
    "            labels.append(df.loc[file].values)\n",
    "        return np.array(imgs), np.array(labels)"
   ]
  },
  {
   "cell_type": "code",
   "execution_count": 9,
   "metadata": {},
   "outputs": [
    {
     "name": "stderr",
     "output_type": "stream",
     "text": [
      " 21%|██        | 1128/5400 [00:09<00:37, 112.97it/s]/home/faisal/anaconda3/envs/ai/lib/python3.6/site-packages/tqdm/_monitor.py:89: TqdmSynchronisationWarning: Set changed size during iteration (see https://github.com/tqdm/tqdm/issues/481)\n",
      "  TqdmSynchronisationWarning)\n",
      "100%|██████████| 5400/5400 [00:48<00:00, 111.94it/s]\n"
     ]
    }
   ],
   "source": [
    "test_imgs = get_imgs(test_data_dir, test)"
   ]
  },
  {
   "cell_type": "code",
   "execution_count": 10,
   "metadata": {},
   "outputs": [],
   "source": [
    "test_datagen = ImageDataGenerator(rescale=1./255)\n",
    "test_datagen.fit(test_imgs)"
   ]
  },
  {
   "cell_type": "code",
   "execution_count": null,
   "metadata": {},
   "outputs": [],
   "source": [
    "model = get_dense_121_model()\n",
    "model.load_weights('./models/densenets/densenet121_all_layers.h5')"
   ]
  },
  {
   "cell_type": "code",
   "execution_count": null,
   "metadata": {},
   "outputs": [],
   "source": [
    "pred_dense_121 = model.predict_generator(test_datagen.flow(test_imgs, batch_size=512, shuffle=False), verbose=1, workers=8)"
   ]
  },
  {
   "cell_type": "code",
   "execution_count": null,
   "metadata": {},
   "outputs": [],
   "source": [
    "model = get_dense_169_model()\n",
    "model.load_weights('./models/densenets/densenet169_all_layers.h5')"
   ]
  },
  {
   "cell_type": "code",
   "execution_count": null,
   "metadata": {},
   "outputs": [],
   "source": [
    "pred_dense_169 = model.predict_generator(test_datagen.flow(test_imgs, batch_size=512, shuffle=False), verbose=1, workers=8)"
   ]
  },
  {
   "cell_type": "code",
   "execution_count": 11,
   "metadata": {},
   "outputs": [],
   "source": [
    "model = get_dense_201_model()\n",
    "model.load_weights('./models/densenets/densenet201_all_layers.h5')"
   ]
  },
  {
   "cell_type": "code",
   "execution_count": 12,
   "metadata": {},
   "outputs": [
    {
     "name": "stdout",
     "output_type": "stream",
     "text": [
      "11/11 [==============================] - 31s 3s/step\n"
     ]
    }
   ],
   "source": [
    "pred_dense_201 = model.predict_generator(test_datagen.flow(test_imgs, batch_size=512, shuffle=False), verbose=1, workers=8)"
   ]
  },
  {
   "cell_type": "code",
   "execution_count": 13,
   "metadata": {},
   "outputs": [],
   "source": [
    "model = get_renset50_model()\n",
    "model.load_weights('./models/resnet50/resnet_all_layers.h5')"
   ]
  },
  {
   "cell_type": "code",
   "execution_count": 14,
   "metadata": {},
   "outputs": [
    {
     "name": "stdout",
     "output_type": "stream",
     "text": [
      "11/11 [==============================] - 17s 2s/step\n"
     ]
    }
   ],
   "source": [
    "pred_resnet50_201 = model.predict_generator(test_datagen.flow(test_imgs, batch_size=512, shuffle=False), verbose=1, workers=8)"
   ]
  },
  {
   "cell_type": "code",
   "execution_count": 15,
   "metadata": {},
   "outputs": [],
   "source": [
    "# pred = 1.0/3.0 * (pred_dense_121 + pred_dense_169 + pred_dense_201)\n",
    "pred = 1.0/2.0 * (pred_dense_201 + pred_resnet50_201)"
   ]
  },
  {
   "cell_type": "code",
   "execution_count": 16,
   "metadata": {},
   "outputs": [
    {
     "data": {
      "text/html": [
       "<div>\n",
       "<style scoped>\n",
       "    .dataframe tbody tr th:only-of-type {\n",
       "        vertical-align: middle;\n",
       "    }\n",
       "\n",
       "    .dataframe tbody tr th {\n",
       "        vertical-align: top;\n",
       "    }\n",
       "\n",
       "    .dataframe thead th {\n",
       "        text-align: right;\n",
       "    }\n",
       "</style>\n",
       "<table border=\"1\" class=\"dataframe\">\n",
       "  <thead>\n",
       "    <tr style=\"text-align: right;\">\n",
       "      <th></th>\n",
       "      <th>Image_name</th>\n",
       "      <th>attrib_01</th>\n",
       "      <th>attrib_02</th>\n",
       "      <th>attrib_03</th>\n",
       "      <th>attrib_04</th>\n",
       "      <th>attrib_05</th>\n",
       "      <th>attrib_06</th>\n",
       "      <th>attrib_07</th>\n",
       "      <th>attrib_08</th>\n",
       "      <th>attrib_09</th>\n",
       "      <th>...</th>\n",
       "      <th>attrib_76</th>\n",
       "      <th>attrib_77</th>\n",
       "      <th>attrib_78</th>\n",
       "      <th>attrib_79</th>\n",
       "      <th>attrib_80</th>\n",
       "      <th>attrib_81</th>\n",
       "      <th>attrib_82</th>\n",
       "      <th>attrib_83</th>\n",
       "      <th>attrib_84</th>\n",
       "      <th>attrib_85</th>\n",
       "    </tr>\n",
       "  </thead>\n",
       "  <tbody>\n",
       "    <tr>\n",
       "      <th>0</th>\n",
       "      <td>Image-1.jpg</td>\n",
       "      <td>0</td>\n",
       "      <td>0</td>\n",
       "      <td>0</td>\n",
       "      <td>0</td>\n",
       "      <td>0</td>\n",
       "      <td>1</td>\n",
       "      <td>0</td>\n",
       "      <td>0</td>\n",
       "      <td>1</td>\n",
       "      <td>...</td>\n",
       "      <td>0</td>\n",
       "      <td>0</td>\n",
       "      <td>0</td>\n",
       "      <td>1</td>\n",
       "      <td>1</td>\n",
       "      <td>0</td>\n",
       "      <td>0</td>\n",
       "      <td>1</td>\n",
       "      <td>0</td>\n",
       "      <td>1</td>\n",
       "    </tr>\n",
       "    <tr>\n",
       "      <th>1</th>\n",
       "      <td>Image-2.jpg</td>\n",
       "      <td>0</td>\n",
       "      <td>1</td>\n",
       "      <td>0</td>\n",
       "      <td>1</td>\n",
       "      <td>0</td>\n",
       "      <td>1</td>\n",
       "      <td>1</td>\n",
       "      <td>0</td>\n",
       "      <td>0</td>\n",
       "      <td>...</td>\n",
       "      <td>0</td>\n",
       "      <td>1</td>\n",
       "      <td>0</td>\n",
       "      <td>1</td>\n",
       "      <td>0</td>\n",
       "      <td>0</td>\n",
       "      <td>0</td>\n",
       "      <td>0</td>\n",
       "      <td>1</td>\n",
       "      <td>0</td>\n",
       "    </tr>\n",
       "    <tr>\n",
       "      <th>2</th>\n",
       "      <td>Image-3.jpg</td>\n",
       "      <td>0</td>\n",
       "      <td>0</td>\n",
       "      <td>0</td>\n",
       "      <td>1</td>\n",
       "      <td>0</td>\n",
       "      <td>0</td>\n",
       "      <td>1</td>\n",
       "      <td>0</td>\n",
       "      <td>0</td>\n",
       "      <td>...</td>\n",
       "      <td>1</td>\n",
       "      <td>0</td>\n",
       "      <td>0</td>\n",
       "      <td>1</td>\n",
       "      <td>0</td>\n",
       "      <td>0</td>\n",
       "      <td>0</td>\n",
       "      <td>1</td>\n",
       "      <td>0</td>\n",
       "      <td>1</td>\n",
       "    </tr>\n",
       "    <tr>\n",
       "      <th>3</th>\n",
       "      <td>Image-4.jpg</td>\n",
       "      <td>1</td>\n",
       "      <td>0</td>\n",
       "      <td>0</td>\n",
       "      <td>0</td>\n",
       "      <td>1</td>\n",
       "      <td>1</td>\n",
       "      <td>1</td>\n",
       "      <td>0</td>\n",
       "      <td>0</td>\n",
       "      <td>...</td>\n",
       "      <td>0</td>\n",
       "      <td>1</td>\n",
       "      <td>1</td>\n",
       "      <td>1</td>\n",
       "      <td>0</td>\n",
       "      <td>0</td>\n",
       "      <td>0</td>\n",
       "      <td>0</td>\n",
       "      <td>0</td>\n",
       "      <td>1</td>\n",
       "    </tr>\n",
       "    <tr>\n",
       "      <th>4</th>\n",
       "      <td>Image-5.jpg</td>\n",
       "      <td>0</td>\n",
       "      <td>0</td>\n",
       "      <td>0</td>\n",
       "      <td>1</td>\n",
       "      <td>0</td>\n",
       "      <td>1</td>\n",
       "      <td>0</td>\n",
       "      <td>0</td>\n",
       "      <td>0</td>\n",
       "      <td>...</td>\n",
       "      <td>0</td>\n",
       "      <td>0</td>\n",
       "      <td>0</td>\n",
       "      <td>1</td>\n",
       "      <td>1</td>\n",
       "      <td>0</td>\n",
       "      <td>0</td>\n",
       "      <td>1</td>\n",
       "      <td>0</td>\n",
       "      <td>0</td>\n",
       "    </tr>\n",
       "  </tbody>\n",
       "</table>\n",
       "<p>5 rows × 86 columns</p>\n",
       "</div>"
      ],
      "text/plain": [
       "    Image_name  attrib_01  attrib_02  attrib_03  attrib_04  attrib_05  \\\n",
       "0  Image-1.jpg          0          0          0          0          0   \n",
       "1  Image-2.jpg          0          1          0          1          0   \n",
       "2  Image-3.jpg          0          0          0          1          0   \n",
       "3  Image-4.jpg          1          0          0          0          1   \n",
       "4  Image-5.jpg          0          0          0          1          0   \n",
       "\n",
       "   attrib_06  attrib_07  attrib_08  attrib_09    ...      attrib_76  \\\n",
       "0          1          0          0          1    ...              0   \n",
       "1          1          1          0          0    ...              0   \n",
       "2          0          1          0          0    ...              1   \n",
       "3          1          1          0          0    ...              0   \n",
       "4          1          0          0          0    ...              0   \n",
       "\n",
       "   attrib_77  attrib_78  attrib_79  attrib_80  attrib_81  attrib_82  \\\n",
       "0          0          0          1          1          0          0   \n",
       "1          1          0          1          0          0          0   \n",
       "2          0          0          1          0          0          0   \n",
       "3          1          1          1          0          0          0   \n",
       "4          0          0          1          1          0          0   \n",
       "\n",
       "   attrib_83  attrib_84  attrib_85  \n",
       "0          1          0          1  \n",
       "1          0          1          0  \n",
       "2          1          0          1  \n",
       "3          0          0          1  \n",
       "4          1          0          0  \n",
       "\n",
       "[5 rows x 86 columns]"
      ]
     },
     "execution_count": 16,
     "metadata": {},
     "output_type": "execute_result"
    }
   ],
   "source": [
    "sub = pd.read_csv('./data/sample_submission.csv')\n",
    "sub.iloc[:, 1:] = pred.round().astype(int)\n",
    "sub.head()"
   ]
  },
  {
   "cell_type": "code",
   "execution_count": 17,
   "metadata": {},
   "outputs": [],
   "source": [
    "sub.to_csv('submission.csv', index=False)"
   ]
  },
  {
   "cell_type": "code",
   "execution_count": 18,
   "metadata": {},
   "outputs": [
    {
     "data": {
      "text/plain": [
       "(5400, 86)"
      ]
     },
     "execution_count": 18,
     "metadata": {},
     "output_type": "execute_result"
    }
   ],
   "source": [
    "sub.shape"
   ]
  },
  {
   "cell_type": "code",
   "execution_count": null,
   "metadata": {},
   "outputs": [],
   "source": []
  }
 ],
 "metadata": {
  "kernelspec": {
   "display_name": "Python [default]",
   "language": "python",
   "name": "python3"
  },
  "language_info": {
   "codemirror_mode": {
    "name": "ipython",
    "version": 3
   },
   "file_extension": ".py",
   "mimetype": "text/x-python",
   "name": "python",
   "nbconvert_exporter": "python",
   "pygments_lexer": "ipython3",
   "version": "3.6.4"
  }
 },
 "nbformat": 4,
 "nbformat_minor": 2
}
